{
 "cells": [
  {
   "cell_type": "markdown",
   "id": "b5f3db96-3bc6-4ea7-b6b1-f1049d6891fc",
   "metadata": {},
   "source": [
    "# Data Science Tools and Ecosystem"
   ]
  },
  {
   "cell_type": "markdown",
   "id": "fdcc0f6c-3eed-4b34-be21-52cf17cff5ba",
   "metadata": {},
   "source": [
    "In this notebook, Data Science tools and ecosystems are summarized"
   ]
  },
  {
   "cell_type": "markdown",
   "id": "cc8da140-f9f8-48a4-8f96-322d802cd62c",
   "metadata": {},
   "source": [
    "Some popular languages for Data Science are:\n",
    "1. Python\n",
    "2. R\n",
    "3. Julia"
   ]
  },
  {
   "cell_type": "markdown",
   "id": "98972716-134e-4b8a-bad6-a9cc8113ed7f",
   "metadata": {},
   "source": [
    "Some of the commonly usedlibraries in data science are\n",
    "1. Pandas\n",
    "2. Matplotlib\n",
    "3. Tensorflow"
   ]
  },
  {
   "cell_type": "markdown",
   "id": "b01760b9-c426-4f5e-b403-c6370ce4ea0e",
   "metadata": {},
   "source": [
    "| Data Science Tools |\n",
    "| ------------------ |\n",
    "| REST APIs |\n",
    "| Data Access eXchange |\n",
    "| Model Acess eXchange |"
   ]
  },
  {
   "cell_type": "markdown",
   "id": "eee47671-dc31-44a1-be7c-1673af232b6a",
   "metadata": {},
   "source": [
    "### Below are a few examples of evaluating arithmatic expression in Python"
   ]
  },
  {
   "cell_type": "code",
   "execution_count": 9,
   "id": "d230f0f0-c369-41e9-819f-cb33065d529c",
   "metadata": {},
   "outputs": [
    {
     "data": {
      "text/plain": [
       "17"
      ]
     },
     "execution_count": 9,
     "metadata": {},
     "output_type": "execute_result"
    }
   ],
   "source": [
    "(3*4)+5\n",
    "# This is a simple arithmetic expression to mutiply then add integers"
   ]
  },
  {
   "cell_type": "code",
   "execution_count": 11,
   "id": "79fdf392-4ad9-44fc-a6d8-14c57ddd9879",
   "metadata": {},
   "outputs": [
    {
     "data": {
      "text/plain": [
       "3.3333333333333335"
      ]
     },
     "execution_count": 11,
     "metadata": {},
     "output_type": "execute_result"
    }
   ],
   "source": [
    "200/60\n",
    "# This will convert 200 minutes into hours by dividing by 60"
   ]
  },
  {
   "cell_type": "markdown",
   "id": "46a629b9-a230-4deb-aa21-d88af8ccbfaf",
   "metadata": {},
   "source": [
    "Objectives\n",
    "\n",
    "* list popular languages for Data Science\n",
    "* List popular tools for Data Science\n",
    "* List popular libraries for Data Science\n",
    "   "
   ]
  },
  {
   "cell_type": "markdown",
   "id": "c686a7df-9fa6-463f-9289-a158a1769b1f",
   "metadata": {},
   "source": [
    "## Author\n",
    "Will Sandin"
   ]
  },
  {
   "cell_type": "code",
   "execution_count": null,
   "id": "7cf5dcbc-b048-4c7d-ab26-c7f1ec4f968c",
   "metadata": {},
   "outputs": [],
   "source": []
  }
 ],
 "metadata": {
  "kernelspec": {
   "display_name": "Python 3 (ipykernel)",
   "language": "python",
   "name": "python3"
  },
  "language_info": {
   "codemirror_mode": {
    "name": "ipython",
    "version": 3
   },
   "file_extension": ".py",
   "mimetype": "text/x-python",
   "name": "python",
   "nbconvert_exporter": "python",
   "pygments_lexer": "ipython3",
   "version": "3.12.7"
  }
 },
 "nbformat": 4,
 "nbformat_minor": 5
}
